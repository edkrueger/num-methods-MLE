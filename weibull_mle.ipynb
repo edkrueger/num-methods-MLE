{
 "cells": [
  {
   "cell_type": "markdown",
   "metadata": {},
   "source": [
    "# Numerical Methods for Maximum Likelihood Estimation: Weibull Example\n",
    "## *Edward Krueger*"
   ]
  },
  {
   "cell_type": "markdown",
   "metadata": {},
   "source": [
    "I will use Gradient Descent, Newton-Rhapson and The Method of Scoring to model the failure times according to a Weibull distribution.\n",
    "\n",
    "This notebook extends and implements section 4.2 of Dobson and Barnett's \"An Introduction to Generalized Linear Models 3e\" in Python."
   ]
  },
  {
   "cell_type": "markdown",
   "metadata": {},
   "source": [
    "## Setup"
   ]
  },
  {
   "cell_type": "markdown",
   "metadata": {},
   "source": [
    "I will use Pandas inorder to import the data. I will program the estimation techniques using the Numpy. Matplotlib will be used to visualize the results."
   ]
  },
  {
   "cell_type": "code",
   "execution_count": 1,
   "metadata": {},
   "outputs": [],
   "source": [
    "# import packages\n",
    "\n",
    "import pandas as pd\n",
    "import numpy as np\n",
    "import matplotlib.pyplot as plt"
   ]
  },
  {
   "cell_type": "markdown",
   "metadata": {},
   "source": [
    "## The Data"
   ]
  },
  {
   "cell_type": "markdown",
   "metadata": {},
   "source": [
    "The data are the lifetimes of Kevlar epoxy strand pressure at 70% stress level. The data is from Andrews and Hezberg's \"Data: A Collection of Problems from Many Fields for the Student and Research Worker\".\n",
    "\n",
    "In Dobson and Barnett, the data is availible in \"Table 4.1 Failure times of pressure vessels\"."
   ]
  },
  {
   "cell_type": "code",
   "execution_count": 2,
   "metadata": {},
   "outputs": [],
   "source": [
    "# load the data\n",
    "\n",
    "path = \"table_4.1.csv\"\n",
    "df = pd.read_csv(path, header = 1)\n",
    "y = np.array(df[\"lifetimes\"])"
   ]
  },
  {
   "cell_type": "code",
   "execution_count": 3,
   "metadata": {},
   "outputs": [
    {
     "name": "stdout",
     "output_type": "stream",
     "text": [
      "Data: \n",
      "\n",
      "[ 1051  1337  1389  1921  1942  2322  3629  4006  4012  4063  4921  5445\n",
      "  5620  5817  5905  5956  6068  6121  6473  7501  7886  8108  8546  8666\n",
      "  8831  9106  9711  9806 10205 10396 10861 11026 11214 11362 11604 11608\n",
      " 11745 11762 11895 12044 13520 13670 14110 14496 15395 16179 17092 17568\n",
      " 17568]\n",
      "\n",
      "Length of Data: 49\n"
     ]
    }
   ],
   "source": [
    "# look at the data\n",
    "\n",
    "print(\"Data: \\n\\n\" + str(y) + \"\\n\")\n",
    "print(\"Length of Data: \" + str(len(y)))"
   ]
  },
  {
   "cell_type": "markdown",
   "metadata": {},
   "source": [
    "## The Weibull Distribution"
   ]
  },
  {
   "cell_type": "markdown",
   "metadata": {},
   "source": [
    "The density of the Wiebull distribution is given by:\n",
    "$$f(x|\\lambda, \\theta) = \\frac {\\lambda x^{\\lambda-1}}{\\theta^\\lambda} e ^{-(\\frac{x}{\\theta})^\\lambda}$$\n",
    "\n",
    "Considering $\\theta$ as the parameter of interest and $\\lambda$ as a nuissance parameter, the log-likelihood for one observation from the distribution, $y_i$, is:\n",
    "$$l_i(\\theta|y_i) = log(\\lambda) + (1 - \\lambda)log(y_i) - \\big(\\frac{y}{\\theta}\\big)^\\lambda $$\n",
    "\n",
    "Assuming that $y_1, ..., y_N$ are i.i.d. Wiebull, the log-likelihood of the data is:\n",
    "$$l(\\theta|y) = \\prod\\limits_{i=1}^N l_i(\\theta|y_i) = \\prod\\limits_{i=1}^N log(\\lambda) + (1 - \\lambda)log(y_i) - \\big(\\frac{y}{\\theta}\\big)^\\lambda $$"
   ]
  },
  {
   "cell_type": "markdown",
   "metadata": {},
   "source": [
    "## Numerical Methods to Estimate the MLE"
   ]
  },
  {
   "cell_type": "markdown",
   "metadata": {},
   "source": [
    "I will implement and evaluate three different numerical methods to estimate $\\theta$. All three will numerically maximize the log-likelihood of the data. The log-likelihood function is our objective function. The first will be gradient descent, which simply moves in the direction of the objective's derivative (the score) at a predetermined learning rate. (Note: Despite the name, Gradient Descent will not necesesarily find a local minimum, it will find a point with with vanishing derivative. In this setting, it will infact find the global maximum.) The next is Newton-Raphson which moves the estimate in the direction of the objective's derivative at a rate determined by the objective's second derivative. Newton-Raphson takes less steps to converge than gradient descent, but getting the second derivative symbolicaly can be difficult (or impossible) and calculating it can be computationally costly. For distributions that are in the exponential family, another method is available. Properties of exponential family distributions allow the expectation of second derivative of the log-likelihood to be calculated easily. The expectation of second derivative is equal to the negative variance of the log-likelihood. This is called the information. Using this expression as an approximation of the second dervative in the iterative equation for Newton-Raphson allows for a computationally simpler estimation. This method is called the Method of Scoring."
   ]
  },
  {
   "cell_type": "markdown",
   "metadata": {},
   "source": [
    "### Expressions for the Score, its Derivative and the Information "
   ]
  },
  {
   "cell_type": "markdown",
   "metadata": {},
   "source": [
    "For the above log-likelihood, the score ($U$), its derivative ($U'$) and its information ($J$) are as follows:\n",
    "\n",
    "$$U = \\frac{\\delta l(\\theta | y)}{\\delta \\theta} = \\frac{-N\\lambda}{\\theta} + \\frac{\\lambda \\sum\\limits_{i=1}^N y^\\lambda}{\\theta ^ {\\lambda + l}}$$\n",
    "\n",
    "$$U' = \\frac{\\delta U}{\\delta \\theta} = \\frac{N\\lambda}{\\theta^2} - \\frac{\\lambda(1 - \\lambda) \\sum\\limits_{i=1}^N y_i^\\lambda}{\\theta ^ {\\lambda +2}}$$\n",
    "\n",
    "$$J = E(-U) = \\frac{\\lambda ^ 2 N}{\\theta ^ 2}$$"
   ]
  },
  {
   "cell_type": "markdown",
   "metadata": {},
   "source": [
    "### Code for the Score, its Derivative and the Information "
   ]
  },
  {
   "cell_type": "code",
   "execution_count": 4,
   "metadata": {},
   "outputs": [],
   "source": [
    "# define mathematical functions I will need in the algorithms\n",
    "# assume the Weibull distribution with l as the shape parameter and theta as the scale parameter\n",
    "# the score, its derivative and the information are as follows:\n",
    "\n",
    "def score(y, theta, l):\n",
    "    score_i = -l/theta + (l * (y ** l))/(theta ** (1 + l))\n",
    "    return score_i.sum()\n",
    "\n",
    "def derivative_of_score(y, theta, l):\n",
    "    N = len(y)\n",
    "    top =  (N * l * (theta ** l)) - (l * (l + 1) * (y ** l).sum())\n",
    "    bottom = theta **(l + 2)\n",
    "    derivative = top / bottom\n",
    "    return derivative\n",
    "\n",
    "def information(y, theta, l):\n",
    "    N = len(y)\n",
    "    return (l ** 2) * N / (theta ** 2)"
   ]
  },
  {
   "cell_type": "markdown",
   "metadata": {},
   "source": [
    "### Gradient Descent: Math"
   ]
  },
  {
   "cell_type": "markdown",
   "metadata": {},
   "source": [
    "Gradient Descent is defined by the iterative equation $\\theta^{(m)} = \\theta^{(m-1)} + \\gamma * U^{(m-1)}$, where $\\gamma$ is the learing rate, an arbitrary hyper-parameter.\n",
    "\n",
    "Computationally, when, for some $m$, $\\theta^{(m)}$ and $\\theta^{(m-1)}$ are within a defined tolerance, the algorithm has converged.\n",
    "\n",
    "If $\\gamma$ is too large, Gradeint Descent may not converge, but if $\\gamma$ is too small, convergence will take many steps."
   ]
  },
  {
   "cell_type": "markdown",
   "metadata": {},
   "source": [
    "### Gradient Descent: Code"
   ]
  },
  {
   "cell_type": "markdown",
   "metadata": {},
   "source": [
    "Since our data set is small, it won't take too long to do a grid search to find the learning rate that make for the fastest convergence."
   ]
  },
  {
   "cell_type": "code",
   "execution_count": 5,
   "metadata": {},
   "outputs": [],
   "source": [
    "# define a function to perform Gradient Descent\n",
    "\n",
    "# finds the number of iterations it take for gradient descent to converge and the sequence of estimates \n",
    "def gd(y, learning_rate, percision):\n",
    "    \n",
    "    # guess the mean of y to initailize the algorithm\n",
    "    theta = y.mean()\n",
    "    \n",
    "    # initialize a counter\n",
    "    i = 0\n",
    "    \n",
    "    # create a bin for the estimates\n",
    "    estimates = []\n",
    "    estimates.append(theta)\n",
    "    \n",
    "    while True:\n",
    "        \n",
    "        # increment the counter\n",
    "        i += 1\n",
    "        \n",
    "        # perform the iteration\n",
    "        theta_last = theta\n",
    "        theta = theta_last + learning_rate * score(y, theta_last, 2)\n",
    "        estimates.append(theta)\n",
    "\n",
    "        if abs(theta - theta_last) < percision:\n",
    "            break\n",
    "        \n",
    "    return {\"steps\" : i, \"estimates\" : estimates}"
   ]
  },
  {
   "cell_type": "code",
   "execution_count": 6,
   "metadata": {},
   "outputs": [
    {
     "data": {
      "image/png": "[encoded data removed]",
      "text/plain": [
       "<Figure size 432x288 with 1 Axes>"
      ]
     },
     "metadata": {
      "needs_background": "light"
     },
     "output_type": "display_data"
    },
    {
     "name": "stdout",
     "output_type": "stream",
     "text": [
      "The fastest learning rate is 500000. It converges, with tolerance of 1e-06, in 6 steps.\n"
     ]
    }
   ],
   "source": [
    "# do a grid search to find the fastest descent\n",
    "tolerance = 10 ** -6\n",
    "learning_rates = range(10000, 10 ** 6, 10000)\n",
    "steps = []\n",
    "\n",
    "for learning_rate in learning_rates:\n",
    "    n_steps = gd(y, learning_rate, tolerance)[\"steps\"]\n",
    "    steps.append(n_steps)\n",
    "\n",
    "# plot the results\n",
    "plt.title(\"Number of Iterations for Gradient Descent to Converge  \\n (with tolerance = 10 ** -6) \\n (initial value = ybar)\")\n",
    "plt.ylabel(\"Iterations\")\n",
    "plt.xlabel(\"Learning Rate\")\n",
    "plt.plot(learning_rates, steps)\n",
    "plt.show()\n",
    "\n",
    "# find the best rate\n",
    "min_steps = min(steps)\n",
    "min_idx = steps.index(min_steps)\n",
    "arg_min_learning_rate = learning_rates[min_idx]\n",
    "out_str = \"The fastest learning rate is %s. It converges, with tolerance of %s, in %s steps.\" %(arg_min_learning_rate, tolerance, min_steps)\n",
    "print(out_str)"
   ]
  },
  {
   "cell_type": "code",
   "execution_count": 7,
   "metadata": {},
   "outputs": [
    {
     "data": {
      "text/plain": [
       "[8805.69387755102,\n",
       " 10263.56923039718,\n",
       " 9924.309170133882,\n",
       " 9892.38906091601,\n",
       " 9892.17651656667,\n",
       " 9892.176819757902,\n",
       " 9892.17681930912]"
      ]
     },
     "execution_count": 7,
     "metadata": {},
     "output_type": "execute_result"
    }
   ],
   "source": [
    "# estimation using Gradient Descent with best learning rate of 500000.\n",
    "\n",
    "gd_estimates = gd(y, 500000, 10 ** -6)[\"estimates\"]\n",
    "gd_estimates"
   ]
  },
  {
   "cell_type": "code",
   "execution_count": 8,
   "metadata": {},
   "outputs": [
    {
     "data": {
      "image/png": "[encoded data removed]",
      "text/plain": [
       "<Figure size 432x288 with 1 Axes>"
      ]
     },
     "metadata": {
      "needs_background": "light"
     },
     "output_type": "display_data"
    }
   ],
   "source": [
    "# estimation using Gradient Descent with learning rate of 100000.\n",
    "\n",
    "gd_estimates_100k = gd(y, 100000, 10 ** -6)[\"estimates\"]\n",
    "\n",
    "gd_estimates_100k\n",
    "\n",
    "plt.plot(gd_estimates_100k)\n",
    "plt.xlabel(\"Iteration\")\n",
    "plt.ylabel(\"Estimate\")\n",
    "plt.title(\"Estimates of Theta until Numerical Convergence \\n (learning rate = 100000) \\n (tolerence = 10**-6)\")\n",
    "plt.show()"
   ]
  },
  {
   "cell_type": "markdown",
   "metadata": {},
   "source": [
    "### Newton-Raphson: Math"
   ]
  },
  {
   "cell_type": "markdown",
   "metadata": {},
   "source": [
    "Using Newton-Raphson, we get the interative eqaution $\\theta^{(m)} = \\theta^{(m-1)} -\\frac{U^{(m-1)}}{U'^{(m-1)}}$.\n",
    "\n",
    "Computationally, when, for some $m$, $\\theta^{(m)}$ and $\\theta^{(m-1)}$ are within a defined tolerance, the algorithm has converged.\n",
    "\n",
    "I will demonstrate that Newton-Raphson converges with very few iterations."
   ]
  },
  {
   "cell_type": "markdown",
   "metadata": {},
   "source": [
    "### Newton-Raphson: Code"
   ]
  },
  {
   "cell_type": "code",
   "execution_count": 9,
   "metadata": {},
   "outputs": [
    {
     "data": {
      "text/plain": [
       "[8805.69387755102,\n",
       " 9633.77740849518,\n",
       " 9875.898292055434,\n",
       " 9892.110003552083,\n",
       " 9892.17681818154,\n",
       " 9892.176819309781,\n",
       " 9892.176819309783]"
      ]
     },
     "execution_count": 9,
     "metadata": {},
     "output_type": "execute_result"
    }
   ],
   "source": [
    "# estimation using Newton-Raphson\n",
    "\n",
    "# initialize the estimate\n",
    "theta = y.mean()\n",
    "\n",
    "newton_estimates = []\n",
    "newton_estimates.append(theta)\n",
    "newton_lrs = []\n",
    "\n",
    "for i in range(0, 6):\n",
    "    U = score(y, theta, 2)\n",
    "    dU_dtheta = derivative_of_score(y, theta, 2)\n",
    "    theta = theta -  U / dU_dtheta\n",
    "    newton_estimates.append(theta)\n",
    "    newton_lrs.append(-1/dU_dtheta)\n",
    "    \n",
    "newton_estimates"
   ]
  },
  {
   "cell_type": "code",
   "execution_count": 10,
   "metadata": {},
   "outputs": [
    {
     "data": {
      "text/plain": [
       "True"
      ]
     },
     "execution_count": 10,
     "metadata": {},
     "output_type": "execute_result"
    }
   ],
   "source": [
    "abs(newton_estimates[6] - newton_estimates[5])< 10**-6"
   ]
  },
  {
   "cell_type": "markdown",
   "metadata": {},
   "source": [
    "Newton-Raphson converges, with a tolerence of 10**-6, on the 6th iteration."
   ]
  },
  {
   "cell_type": "markdown",
   "metadata": {},
   "source": [
    "### Method of Scoring: Math"
   ]
  },
  {
   "cell_type": "markdown",
   "metadata": {},
   "source": [
    "Using approximating $U'$ with $-E(U) = J$ in the Newton-Raphson iterative equation, we get the Method of Scoring's iterative equation:\n",
    "$$\\theta^{(m)} = \\theta^{(m-1)} +\\frac{U^{(m-1)}}{J^{(m-1)}}$$\n",
    "\n",
    "Computationally, when, for some $m$, $\\theta^{(m)}$ and $\\theta^{(m-1)}$ are within a defined tolerance, the algorithm has converged.\n",
    "\n",
    "The Method of Scoring converges with very few iterations."
   ]
  },
  {
   "cell_type": "markdown",
   "metadata": {},
   "source": [
    "### Method of Scoring: Code"
   ]
  },
  {
   "cell_type": "code",
   "execution_count": 11,
   "metadata": {},
   "outputs": [
    {
     "data": {
      "text/plain": [
       "[8805.69387755102,\n",
       " 9959.20419949967,\n",
       " 9892.402372958704,\n",
       " 9892.176821881172,\n",
       " 9892.176819309781,\n",
       " 9892.176819309783,\n",
       " 9892.176819309781]"
      ]
     },
     "execution_count": 11,
     "metadata": {},
     "output_type": "execute_result"
    }
   ],
   "source": [
    "# Estimation using the Method of Scoring\n",
    "\n",
    "# initialize the estimate\n",
    "theta = y.mean()\n",
    "\n",
    "scoring_estimates = []\n",
    "scoring_estimates.append(theta)\n",
    "scoring_lrs = []\n",
    "\n",
    "for i in range(0, 6):\n",
    "    U = score(y, theta, 2)\n",
    "    VU = information(y, theta, 2)\n",
    "    theta = theta + U / VU\n",
    "    scoring_estimates.append(theta)\n",
    "    scoring_lrs.append(1/VU)\n",
    "    \n",
    "scoring_estimates"
   ]
  },
  {
   "cell_type": "code",
   "execution_count": 12,
   "metadata": {},
   "outputs": [
    {
     "data": {
      "text/plain": [
       "True"
      ]
     },
     "execution_count": 12,
     "metadata": {},
     "output_type": "execute_result"
    }
   ],
   "source": [
    "abs(scoring_estimates[5] - scoring_estimates[4])< 10**-6"
   ]
  },
  {
   "cell_type": "markdown",
   "metadata": {},
   "source": [
    "The Method of Scoring converges, with a tolerence of 10**-6, on the 5th iteration."
   ]
  },
  {
   "cell_type": "markdown",
   "metadata": {},
   "source": [
    "## Comparison"
   ]
  },
  {
   "cell_type": "code",
   "execution_count": 13,
   "metadata": {},
   "outputs": [
    {
     "data": {
      "image/png": "[encoded data removed]",
      "text/plain": [
       "<Figure size 432x288 with 1 Axes>"
      ]
     },
     "metadata": {
      "needs_background": "light"
     },
     "output_type": "display_data"
    }
   ],
   "source": [
    "# plot the estimates against each other\n",
    "plt.title(\"Numerical Methods for Estimating Theta \\n (initial value = ybar)\")\n",
    "plt.plot(gd_estimates_100k[0:len(gd_estimates)], label = \"Gradient Descent (learning rate = 100000)\")\n",
    "plt.plot(gd_estimates, label = \"Gradient Descent (learning rate = 500000)\")\n",
    "plt.plot(newton_estimates, label = \"Newton\")\n",
    "plt.plot(scoring_estimates, label = \"Scoring\")\n",
    "plt.ylabel(\"Theta\")\n",
    "plt.xlabel(\"Iterations\")\n",
    "plt.legend()\n",
    "plt.show()"
   ]
  },
  {
   "cell_type": "markdown",
   "metadata": {
    "collapsed": true
   },
   "source": [
    "It can be seen that all three algorithms converge to roughly the same parameter estimate for theta. However, gradient descent converges slowly if the wrong learning rate is chosen.\n",
    "\n",
    "One might wonder why choosing the learning rate of 500000 produces quick congervence. The answer is that Newton-Raphson and the Method of Scoring can be interpreted as extentions of Gradeint Descent with a non constant learning rate.\n",
    "\n",
    "For Newton-Raphson,  we can rewrite the interative equation as $\\theta^{(m)} = \\theta^{(m-1)} + \\gamma_{Newton} U^{(m-1)}$, where $\\gamma_{Newton} =\\frac{-1}{U'^{(m-1)}}$.\n",
    "\n",
    "For the Method of Scoring, we can rewrite the interative equation as $\\theta^{(m)} = \\theta^{(m-1)} + \\gamma_{Scoring} U^{(m-1)}$, where $\\gamma_{Scoring} =\\frac{1}{J^{(m-1)}}$.\n",
    "\n",
    "Earlier, when implementing Newton-Raphson and the Method of Scoring, I collected the \"learing rates\" as defined here. We can see that the very close to 500000 as the estimates of $\\theta$ converge."
   ]
  },
  {
   "cell_type": "code",
   "execution_count": 14,
   "metadata": {},
   "outputs": [
    {
     "data": {
      "text/plain": [
       "[284003.5430078167,\n",
       " 437816.5870506586,\n",
       " 495168.62976214424,\n",
       " 499244.170966234,\n",
       " 499261.0314728877,\n",
       " 499261.0317576009]"
      ]
     },
     "execution_count": 14,
     "metadata": {},
     "output_type": "execute_result"
    }
   ],
   "source": [
    "# display the Newton-Raphson \"Learing Rates\"\n",
    "newton_lrs"
   ]
  },
  {
   "cell_type": "code",
   "execution_count": 15,
   "metadata": {},
   "outputs": [
    {
     "data": {
      "text/plain": [
       "[284003.5430078167,\n",
       " 437816.5870506586,\n",
       " 495168.62976214424,\n",
       " 499244.170966234,\n",
       " 499261.0314728877,\n",
       " 499261.0317576009]"
      ]
     },
     "execution_count": 15,
     "metadata": {},
     "output_type": "execute_result"
    }
   ],
   "source": [
    "# display the Method of Scoring \"Learing Rates\"\n",
    "newton_lrs"
   ]
  },
  {
   "cell_type": "markdown",
   "metadata": {},
   "source": [
    "In addition, the convergence of learning rates was not merely an accident due to the path of convergence. For any values near the final estimate of $\\theta \\approx 9892$, the values of all three learning rate are similar."
   ]
  },
  {
   "cell_type": "code",
   "execution_count": 16,
   "metadata": {},
   "outputs": [
    {
     "data": {
      "image/png": "[encoded data removed]",
      "text/plain": [
       "<Figure size 432x288 with 1 Axes>"
      ]
     },
     "metadata": {
      "needs_background": "light"
     },
     "output_type": "display_data"
    }
   ],
   "source": [
    "# generate a plot of the learning rates at many values of theta\n",
    "\n",
    "theta_values = list(range(9500, 10500, 100))\n",
    "newton_lr = [-1/derivative_of_score(y, theta, 2) for theta in theta_values]\n",
    "scoring_lr = [1/information(y, theta, 2) for theta in theta_values]\n",
    "lr = [500000 for theta in theta_values]\n",
    "\n",
    "plt.title(\"Learning Rates v.s. Theta\")\n",
    "plt.xlabel(\"Theta\")\n",
    "plt.ylabel(\"Learning Rate\")\n",
    "plt.plot(theta_values, newton_lr, label = \"Newton-Raphson\", alpha = .5)\n",
    "plt.plot(theta_values, scoring_lr, label = \"Method of Scoring\", alpha = 1)\n",
    "plt.plot(theta_values, lr, label = \"500000\")\n",
    "plt.legend()\n",
    "plt.show()"
   ]
  },
  {
   "cell_type": "markdown",
   "metadata": {},
   "source": [
    "## Closed Form Solution"
   ]
  },
  {
   "cell_type": "markdown",
   "metadata": {},
   "source": [
    "I conclude with a derivation of a closed formed solution for $\\hat\\theta_{MLE}$. Since, I have decided to fit a Wiebull distribution with known $\\lambda$, a closed form solution is possible.\n",
    "\n",
    "Since $U$ is the score function, which is the deivative of the likelihood w.r.t $\\theta$, we can solve $U = 0$ for $\\theta$ to find $\\hat{\\theta}_{MLE}$:\n",
    "\n",
    "$$U = \\sum\\limits_{i=1}^N \\Big[ \\frac{-\\lambda}{\\theta} + \\frac{\\lambda y_i^\\lambda}{\\theta^{\\lambda +1}} \\Big] = 0$$\n",
    "\n",
    "$$\\Rightarrow ... \\Rightarrow$$ \n",
    "\n",
    "$$\\hat{\\theta}_{MLE}=\\Bigg(\\frac{\\sum\\limits_{i=1}^N y_i^\\lambda}{N} \\Bigg)^{\\frac{1}{\\lambda}}$$\n",
    "\n",
    "Note: This solution assumes that $\\lambda$ is known. Otherwise I could have to differentiate the liklihood w.r.t. $\\lambda$ as well to find $\\hat{\\lambda}_{MLE}$. The FOC for $\\lambda$ cannot be solved symbolically.\n",
    "\n",
    "Finally, I compute $\\hat{\\theta}_{MLE}$ using the closed form equation which I derived."
   ]
  },
  {
   "cell_type": "code",
   "execution_count": 17,
   "metadata": {},
   "outputs": [],
   "source": [
    "def theta_closed_form(y, l):\n",
    "    return ((y ** l).sum() / len(y)) ** (1/l)"
   ]
  },
  {
   "cell_type": "code",
   "execution_count": 18,
   "metadata": {},
   "outputs": [
    {
     "data": {
      "text/plain": [
       "9892.176819309781"
      ]
     },
     "execution_count": 18,
     "metadata": {},
     "output_type": "execute_result"
    }
   ],
   "source": [
    "theta_closed_form(y, 2)"
   ]
  }
 ],
 "metadata": {
  "kernelspec": {
   "display_name": "num-methods-MLE",
   "language": "python",
   "name": "num-methods-mle"
  },
  "language_info": {
   "codemirror_mode": {
    "name": "ipython",
    "version": 3
   },
   "file_extension": ".py",
   "mimetype": "text/x-python",
   "name": "python",
   "nbconvert_exporter": "python",
   "pygments_lexer": "ipython3",
   "version": "3.6.5"
  }
 },
 "nbformat": 4,
 "nbformat_minor": 2
}
